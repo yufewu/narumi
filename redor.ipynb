{
 "cells": [
  {
   "cell_type": "markdown",
   "id": "def34515",
   "metadata": {},
   "source": [
    "## REDOR fitting"
   ]
  },
  {
   "cell_type": "markdown",
   "id": "e4e38f7d",
   "metadata": {},
   "source": [
    "#### Load data"
   ]
  },
  {
   "cell_type": "code",
   "execution_count": null,
   "id": "51f2e777",
   "metadata": {},
   "outputs": [],
   "source": [
    "import os\n",
    "from dotenv import load_dotenv\n",
    "import nmrglue as ng\n",
    "import matplotlib.pyplot as plt\n",
    "import numpy as np\n",
    "import csv\n",
    "from scipy.constants import pi\n",
    "from scipy.constants import physical_constants\n",
    "from scipy.optimize import curve_fit\n",
    "from utils import gamma\n",
    "from utils.function import redor_bessel"
   ]
  },
  {
   "cell_type": "markdown",
   "id": "2c058f9c",
   "metadata": {},
   "source": [
    "#### Define data and experiment"
   ]
  },
  {
   "cell_type": "code",
   "execution_count": null,
   "id": "68f3491c",
   "metadata": {},
   "outputs": [],
   "source": [
    "load_dotenv()\n",
    "\n",
    "# define data location\n",
    "PREFIX = os.getenv(\"PREFIX\")\n",
    "LIB = os.getenv(\"LIB\")\n",
    "EXPNAME = os.getenv(\"EXPNAME\")\n",
    "\n",
    "expno = '5'  # @param {type:\"string\"}\n",
    "procno = '1'  # @param {type:\"string\"}\n",
    "\n",
    "# define processing parameters\n",
    "int_width = 200\n",
    "\n",
    "# define experiment paramters\n",
    "cnst10 = 2\n",
    "spin_rate = 17  # in kHz\n",
    "\n",
    "# define constants\n",
    "mu_0 = physical_constants['vacuum mag. permeability'][0]\n",
    "hbar = physical_constants['reduced Planck constant'][0]\n",
    "gamma_I = gamma.C\n",
    "gamma_S = gamma.N\n",
    "\n",
    "# define a guess of the distance as initial value for fitting\n",
    "r_guess = 0.147  # in nm"
   ]
  },
  {
   "cell_type": "markdown",
   "id": "ec028c67",
   "metadata": {},
   "source": [
    "#### Read and process all spectra"
   ]
  },
  {
   "cell_type": "code",
   "execution_count": null,
   "id": "bbc1f9fb",
   "metadata": {},
   "outputs": [],
   "source": [
    "# get a list of all processed spectra\n",
    "dir_exp = os.path.join(PREFIX, LIB, EXPNAME)\n",
    "dir_proc = os.path.join(PREFIX, LIB, EXPNAME, expno, 'pdata')\n",
    "procs = []\n",
    "print(dir_proc)\n",
    "for root, dirs, files in os.walk(dir_proc):\n",
    "    for name in dirs:\n",
    "        procs.append(name)\n",
    "\n",
    "del procs[0]\n",
    "num_of_procs = len(procs)\n",
    "int_list = np.zeros(num_of_procs)\n",
    "\n",
    "\n",
    "\n",
    "# read and process all spectra\n",
    "first_spec = True\n",
    "counter = 0\n",
    "fig, ax = plt.subplots(figsize=(8,4), constrained_layout=True)\n",
    "for procno in procs:\n",
    "    \n",
    "    path_proc = os.path.join(dir_proc, procno)\n",
    "    dic,data = ng.bruker.read_pdata(path_proc)\n",
    "\n",
    "    if first_spec:\n",
    "        first_spec = False\n",
    "        # define peak region\n",
    "        pp_threshold = data.max()/2\n",
    "        peaks = ng.peakpick.pick(data, pthres=pp_threshold, algorithm=\"downward\")\n",
    "        peak_center = peaks[2][\"X_AXIS\"]  # (peaks[0][\"X_AXIS\"] + peaks[1][\"X_AXIS\"])/2\n",
    "        int_lb = int(peak_center - int_width/2)\n",
    "        int_ub = int(peak_center + int_width/2)\n",
    "        ax.plot(data.real)\n",
    "        for n, peak in enumerate(peaks):\n",
    "            height = data[int(peak[\"X_AXIS\"])]\n",
    "            ax.scatter(peak[\"X_AXIS\"], height, marker=\"o\", color=\"r\", s=100, alpha=0.5)\n",
    "            ax.text(peak[\"X_AXIS\"], height+5e5, n+1, ha=\"center\", va=\"center\")\n",
    "\n",
    "        intrng = data[int_lb:int_ub+1]\n",
    "        intrng_scale = np.arange(0, data.shape[0], 1)[int_lb:int_ub+1]\n",
    "        ax.plot(intrng_scale, intrng.cumsum()/100. + data.max(), 'g-')\n",
    "        ax.plot(intrng_scale, [0]*len(intrng_scale), 'r-')\n",
    "        ax.text(intrng_scale[0], 0.5*intrng.sum()/100. + data.max(), \"integral\", fontsize=8)\n",
    "\n",
    "        # ax.hlines(pp_threshold, , linestyle=\"--\", color=\"k\")\n",
    "        ax.set_ylim(top=data.max()*1.2)\n",
    "        plt.show()\n",
    "\n",
    "    intrng = data[int_lb:int_ub+1]\n",
    "    intrng_scale = np.arange(0, data.shape[0], 1)[int_lb:int_ub+1]\n",
    "    int_list[counter] = intrng.sum()\n",
    "    counter = counter+1"
   ]
  },
  {
   "cell_type": "markdown",
   "id": "79996f86",
   "metadata": {},
   "source": [
    "#### Calculate experimental REDOR points"
   ]
  },
  {
   "cell_type": "code",
   "execution_count": null,
   "id": "9b50779a",
   "metadata": {},
   "outputs": [],
   "source": [
    "int_list = int_list.reshape(2, int(num_of_procs/2))\n",
    "# print(int_list)\n",
    "\n",
    "diff_list = np.zeros(int_list.shape[1])\n",
    "redor_list = np.zeros(int_list.shape[1])\n",
    "for j in range(int_list.shape[1]):\n",
    "    diff_list[j] = int_list[1, j] - int_list[0, j]\n",
    "    redor_list[j] = diff_list[j] / int_list[1, j]\n",
    "\n",
    "# print(diff_list)\n",
    "# print(redor_list)\n",
    "\n",
    "# plot\n",
    "# plt.plot(data)\n",
    "# plt.savefig(\"./fig/plot.png\")\n",
    "\n",
    "# plot REDOR points\n",
    "d5 = 1 / spin_rate  # in ms\n",
    "time_exp = np.zeros(int_list.shape[1])\n",
    "\n",
    "for i in range(int_list.shape[1]):\n",
    "    time_exp[i] = (cnst10*i+1)*d5\n",
    "# print(time_exp)\n",
    "print(\"Maximum evolution time: {:.1f} ms\".format(time_exp[-1]))\n",
    "\n",
    "fig, ax = plt.subplots(figsize=(8,4), constrained_layout=True)\n",
    "ax.scatter(time_exp, redor_list)\n",
    "ax.set_xlabel('REDOR time (ms)')\n",
    "ax.set_ylabel('1-S/S_0')\n",
    "plt.show()"
   ]
  },
  {
   "cell_type": "markdown",
   "id": "2a9ee0f4",
   "metadata": {},
   "source": [
    "#### If needed, write data points to a file"
   ]
  },
  {
   "cell_type": "code",
   "execution_count": null,
   "id": "8686993e",
   "metadata": {},
   "outputs": [],
   "source": [
    "filename = os.path.join(\"./\", \"data\", EXPNAME + \"_\" + expno + \".csv\")\n",
    "with open(filename, 'w', newline='') as csvfile:\n",
    "    csvwriter = csv.writer(csvfile, delimiter=',')\n",
    "    csvwriter.writerow(time_exp)\n",
    "    csvwriter.writerow(redor_list)"
   ]
  },
  {
   "cell_type": "markdown",
   "id": "cd4aa013",
   "metadata": {},
   "source": [
    "#### Read data points from a file (not needed if previous cells are correctly run)"
   ]
  },
  {
   "cell_type": "code",
   "execution_count": null,
   "id": "71cd7b1b",
   "metadata": {},
   "outputs": [],
   "source": [
    "# define experiment\n",
    "EXPNAME = '240322_glycineEthylEster_3p2mm_HXY700'\n",
    "expno = '50'\n",
    "filename = os.path.join(\"./\", \"data\", EXPNAME + \"_\" + expno + \".csv\")\n",
    "with open(filename, newline='') as csvfile:\n",
    "    csvreader = csv.reader(csvfile, delimiter=',')\n",
    "    time_exp = np.array(csvreader.__next__(), dtype=\"double\")\n",
    "    redor_list = np.array(csvreader.__next__(), dtype=\"double\")"
   ]
  },
  {
   "cell_type": "markdown",
   "id": "2830fd8a",
   "metadata": {},
   "source": [
    "#### Fit the REDOR curve"
   ]
  },
  {
   "cell_type": "code",
   "execution_count": null,
   "id": "0675f654",
   "metadata": {
    "scrolled": true
   },
   "outputs": [],
   "source": [
    "d_IS_guess = -mu_0 / (4*pi) * (gamma_I*gamma_S*hbar) / (2*pi) / (r_guess/10**9)**3 /1000  # in kHz\n",
    "print('Dipolar coupling constant by guess = {:.3f} kHz'.format(d_IS_guess))\n",
    "\n",
    "\n",
    "# fit REDOR curve with Bessel functions\n",
    "max_order = 5\n",
    "\n",
    "redor_calculator = redor_bessel(max_order)\n",
    "# redor_predict = redor_calculator(time_axis, d_IS)\n",
    "popt, pconv = curve_fit(redor_calculator, time_exp, redor_list, p0=d_IS_guess, bounds=(0,10))\n",
    "# perr = np.sqrt(np.diag(pconv))  # standard deviation\n",
    "# d_IS_opt = popt[0]\n",
    "\n",
    "r_opt = (-mu_0 / (4*pi) * (gamma_I*gamma_S*hbar) / (2*pi) / popt[0] /1000)**(1/3) * 10**9  # in nm\n",
    "print('Fitted r = {:.3f} nm'.format(r_opt))\n",
    "\n",
    "\n",
    "# plot\n",
    "time_axis = np.linspace(0,time_exp[-1],100)\n",
    "redor_opt = redor_calculator(time_axis, popt[0])\n",
    "redor_guess = redor_calculator(time_axis, d_IS_guess)\n",
    "\n",
    "fig, ax = plt.subplots(figsize=(8,4), constrained_layout=True)\n",
    "ax.scatter(time_exp, redor_list)\n",
    "ax.plot(time_axis, redor_opt)\n",
    "ax.plot(time_axis, redor_guess)\n",
    "ax.set_xlabel('REDOR time (ms)')\n",
    "ax.set_ylabel('1-S/S_0')\n",
    "ax.set_xlim(left=0)\n",
    "ax.text(0.75*time_exp.max(),0.1*redor_opt.max(),'Fitted r = {:.3f} nm'.format(r_opt))\n",
    "plt.show()\n"
   ]
  },
  {
   "cell_type": "markdown",
   "id": "b91f4c83",
   "metadata": {},
   "source": [
    "Author: Yufei Wu  \n",
    "Last changed: 2024-04-29  \n",
    "Email: yufei.wu@itmc.rwth-aachen.de"
   ]
  }
 ],
 "metadata": {
  "kernelspec": {
   "display_name": "topspin",
   "language": "python",
   "name": "topspin"
  },
  "language_info": {
   "codemirror_mode": {
    "name": "ipython",
    "version": 3
   },
   "file_extension": ".py",
   "mimetype": "text/x-python",
   "name": "python",
   "nbconvert_exporter": "python",
   "pygments_lexer": "ipython3",
   "version": "3.11.7"
  }
 },
 "nbformat": 4,
 "nbformat_minor": 5
}
