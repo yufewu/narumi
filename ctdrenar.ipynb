{
 "cells": [
  {
   "cell_type": "markdown",
   "id": "def34515",
   "metadata": {},
   "source": [
    "## CT-DRENAR fitting"
   ]
  },
  {
   "cell_type": "code",
   "execution_count": null,
   "id": "51f2e777",
   "metadata": {},
   "outputs": [],
   "source": [
    "import os\n",
    "from dotenv import load_dotenv\n",
    "#import nmrglue as ng\n",
    "import matplotlib.pyplot as plt\n",
    "import numpy as np\n",
    "from scipy.constants import pi\n",
    "from scipy.constants import physical_constants\n",
    "from scipy.optimize import curve_fit\n",
    "from utils import gamma\n",
    "from utils.function import ctdrenar"
   ]
  },
  {
   "cell_type": "markdown",
   "id": "5ddbb1f0",
   "metadata": {},
   "source": [
    "#### Define data and experiment"
   ]
  },
  {
   "cell_type": "code",
   "execution_count": null,
   "id": "68f3491c",
   "metadata": {},
   "outputs": [],
   "source": [
    "load_dotenv()\n",
    "\n",
    "# define data location\n",
    "PREFIX = os.getenv(\"PREFIX\")\n",
    "LIB = os.getenv(\"LIB\")\n",
    "EXPNAME = os.getenv(\"EXPNAME\")\n",
    "EXPNO = os.getenv(\"EXPNO\")\n",
    "procno = '101'  # @param {type:\"string\"}\n",
    "\n",
    "dir_exp = os.path.join(PREFIX, LIB, EXPNAME)\n",
    "dir_proc = os.path.join(PREFIX, LIB, EXPNAME, EXPNO, 'pdata')\n",
    "dir_int = os.path.join(PREFIX, LIB, EXPNAME, EXPNO, 'pdata', procno, EXPNAME+'_int.txt')\n",
    "\n",
    "print(\"Path to tntegral list: \"+dir_int)\n",
    "print(\"Path to experiment data: \"+dir_exp)\n",
    "\n",
    "# define experiment paramters\n",
    "l0 = 3\n",
    "spin_rate = 8  # in kHz\n",
    "t = l0 * 16 / spin_rate  # in ms, 16 rotor cycles per BaBa block\n",
    "\n",
    "print(\"Dephasing time: {:.1f} ms\".format(t))\n",
    "\n",
    "# define constants\n",
    "mu_0 = physical_constants['vacuum mag. permeability'][0]\n",
    "hbar = physical_constants['reduced Planck constant'][0]\n",
    "gamma_I = gamma.P\n",
    "gamma_S = gamma.P\n",
    "\n",
    "# define a guess of the distance as initial value for fitting\n",
    "r_guess = 0.3  # in nm"
   ]
  },
  {
   "cell_type": "markdown",
   "id": "79996f86",
   "metadata": {},
   "source": [
    "#### Calculate experimental REDOR points"
   ]
  },
  {
   "cell_type": "code",
   "execution_count": null,
   "id": "9b50779a",
   "metadata": {},
   "outputs": [],
   "source": [
    "int_list = []\n",
    "if True:\n",
    "    with open(dir_int, 'r') as f:\n",
    "        for line in f.readlines():\n",
    "            int_list.append([float(x) for x in line.split()])\n",
    "    int_list = np.reshape(int_list, (len(int_list[1]), len(int_list)))\n",
    "else:\n",
    "    pass # raise error\n",
    "\n",
    "phase_increment = 180 / (len(int_list[0])-1)  # in ms\n",
    "\n",
    "phase_discrete = np.linspace(0, 180, num=len(int_list[0]))\n",
    "phase_continuous = np.linspace(0, 180, num=100)\n",
    "\n",
    "print(\"{:d} steps, phase increment {:.1f} degree for each step.\".format(len(int_list[0]), phase_increment))\n",
    "\n",
    "print(\"\\nList of integrals: \")\n",
    "print(int_list[0])\n",
    "\n",
    "diff_list = np.zeros(np.shape(int_list)[1])\n",
    "for i in range(np.shape(int_list)[1]):\n",
    "    diff_list[i] = 1 - int_list[0][i]/int_list[0][int((np.shape(int_list)[1]-1)/2)]\n",
    "\n",
    "print(\"\\nList of relative differences to reference: \")\n",
    "print(diff_list)\n",
    "\n",
    "fig, ax = plt.subplots(figsize=(8,4), constrained_layout=True)\n",
    "ax.scatter(phase_discrete, diff_list)\n",
    "ax.set_xlabel('Phase angle (degree)')\n",
    "ax.set_ylabel('1-S/S0')\n",
    "plt.show()"
   ]
  },
  {
   "cell_type": "markdown",
   "id": "2830fd8a",
   "metadata": {},
   "source": [
    "#### Fit the REDOR curve"
   ]
  },
  {
   "cell_type": "code",
   "execution_count": null,
   "id": "0675f654",
   "metadata": {
    "scrolled": true
   },
   "outputs": [],
   "source": [
    "d_guess = mu_0 / (4*pi) * (gamma_I*gamma_S*hbar) / (2*pi) / (r_guess/10**9)**3 /1000  # in kHz\n",
    "print('Dipolar coupling constant by guess = {:.3f} kHz'.format(d_guess))\n",
    "z_guess = (d_guess*t)**2\n",
    "\n",
    "calculator = ctdrenar()\n",
    "\n",
    "popt, pconv = curve_fit(calculator, phase_discrete, diff_list, p0=z_guess)\n",
    "#perr = np.sqrt(np.diag(pconv))  # standard deviation\n",
    "z_opt = popt[0]\n",
    "d_opt = np.sqrt(z_opt)/t\n",
    "print('Effective dipolar coupling constant by fitting = {:.3f} kHz'.format(d_opt))\n",
    "\n",
    "r_opt = (mu_0 / (4*pi) * (gamma_I*gamma_S*hbar) / (2*pi) / d_opt /1000)**(1/3) * 10**9  # in nm\n",
    "print('Effective distance r = {:.3f} nm'.format(r_opt))\n",
    "\n",
    "\n",
    "# plot\n",
    "diff_opt = calculator(phase_continuous, z_opt)\n",
    "diff_guess = calculator(phase_continuous, z_guess)\n",
    "\n",
    "fig, ax = plt.subplots(figsize=(8,4), constrained_layout=True)\n",
    "ax.scatter(phase_discrete, diff_list)\n",
    "ax.plot(phase_continuous, diff_opt)\n",
    "#ax.plot(time_axis, redor_guess)\n",
    "ax.set_xlabel('Phase angle (degree)')\n",
    "ax.set_ylabel('1-S/S0')\n",
    "ax.set_xlim(left=0, right=180)\n",
    "ax.text(0.75*180,0.1*diff_opt.max(),'Effective dipolar coupling = {:.0f} Hz'.format(1000*d_opt))\n",
    "plt.show()\n"
   ]
  },
  {
   "cell_type": "markdown",
   "id": "b91f4c83",
   "metadata": {},
   "source": [
    "Author: Yufei Wu  \n",
    "Last changed: 2024-11-19  \n",
    "Email: yufei.wu@itmc.rwth-aachen.de"
   ]
  }
 ],
 "metadata": {
  "kernelspec": {
   "display_name": "topspin",
   "language": "python",
   "name": "topspin"
  },
  "language_info": {
   "codemirror_mode": {
    "name": "ipython",
    "version": 3
   },
   "file_extension": ".py",
   "mimetype": "text/x-python",
   "name": "python",
   "nbconvert_exporter": "python",
   "pygments_lexer": "ipython3",
   "version": "3.10.15"
  }
 },
 "nbformat": 4,
 "nbformat_minor": 5
}
